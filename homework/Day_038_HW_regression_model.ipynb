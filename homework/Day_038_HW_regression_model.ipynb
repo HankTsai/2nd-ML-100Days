{
 "cells": [
  {
   "cell_type": "markdown",
   "metadata": {},
   "source": [
    "## [作業重點]\n",
    "使用 Sklearn 中的線性迴歸模型，來訓練各種資料集，務必了解送進去模型訓練的**資料型態**為何，也請了解模型中各項參數的意義"
   ]
  },
  {
   "cell_type": "markdown",
   "metadata": {},
   "source": [
    "## 作業\n",
    "試著使用 sklearn datasets 的其他資料集 (wine, boston, ...)，來訓練自己的線性迴歸模型。"
   ]
  },
  {
   "cell_type": "markdown",
   "metadata": {},
   "source": [
    "### HINT: 注意 label 的型態，確定資料集的目標是分類還是回歸，在使用正確的模型訓練！"
   ]
  },
  {
   "cell_type": "code",
   "execution_count": 8,
   "metadata": {},
   "outputs": [],
   "source": [
    "import numpy as np\n",
    "import pandas as pd\n",
    "import matplotlib.pyplot as plt\n",
    "from sklearn import datasets, linear_model\n",
    "from sklearn.preprocessing import StandardScaler\n",
    "from sklearn.model_selection import train_test_split\n",
    "from sklearn.metrics import mean_squared_error, r2_score, accuracy_score"
   ]
  },
  {
   "cell_type": "code",
   "execution_count": 122,
   "metadata": {},
   "outputs": [],
   "source": [
    "wine = datasets.load_wine()\n",
    "boston = datasets.load_boston()\n",
    "breast_cancer = datasets.load_breast_cancer()"
   ]
  },
  {
   "cell_type": "code",
   "execution_count": 242,
   "metadata": {},
   "outputs": [
    {
     "name": "stdout",
     "output_type": "stream",
     "text": [
      "Accuracy: 0.61111\n",
      "model.score: 0.72222\n"
     ]
    },
    {
     "name": "stderr",
     "output_type": "stream",
     "text": [
      "/Users/BlackSung/opt/anaconda3/envs/py37/lib/python3.7/site-packages/sklearn/linear_model/logistic.py:432: FutureWarning: Default solver will be changed to 'lbfgs' in 0.22. Specify a solver to silence this warning.\n",
      "  FutureWarning)\n",
      "/Users/BlackSung/opt/anaconda3/envs/py37/lib/python3.7/site-packages/sklearn/utils/validation.py:724: DataConversionWarning: A column-vector y was passed when a 1d array was expected. Please change the shape of y to (n_samples, ), for example using ravel().\n",
      "  y = column_or_1d(y, warn=True)\n",
      "/Users/BlackSung/opt/anaconda3/envs/py37/lib/python3.7/site-packages/sklearn/linear_model/logistic.py:469: FutureWarning: Default multi_class will be changed to 'auto' in 0.22. Specify the multi_class option to silence this warning.\n",
      "  \"this warning.\", FutureWarning)\n"
     ]
    }
   ],
   "source": [
    "data1 = wine.data[:,np.newaxis,0]\n",
    "target1 = wine.target.reshape(-1,1)\n",
    "x_train, x_test, y_train, y_test = train_test_split(data1,target1,test_size=0.2,random_state=1)\n",
    "\n",
    "logistic_R = linear_model.LogisticRegression()\n",
    "logistic_R.fit(x_train,y_train)\n",
    "y_pred = logistic_R.predict(x_test)\n",
    "\n",
    "print(\"Accuracy: %.5f\" % accuracy_score(y_test, y_pred))\n",
    "print(\"model.score: %.5f\" % logistic_R.score(y_test,y_pred))"
   ]
  },
  {
   "cell_type": "code",
   "execution_count": 245,
   "metadata": {},
   "outputs": [
    {
     "name": "stdout",
     "output_type": "stream",
     "text": [
      "Coef: -0.65444\n",
      "R square -0.90368\n"
     ]
    }
   ],
   "source": [
    "data2 = boston.data[:, np.newaxis, 2].reshape(-1,1)\n",
    "target2 = boston.target.reshape(-1,1)\n",
    "x_train, x_test, y_train, y_test = train_test_split(data2,target2,test_size=0.2,random_state=1)\n",
    "\n",
    "linear_R = linear_model.LinearRegression()\n",
    "linear_R.fit(x_train,y_train)\n",
    "y_pred = linear_R.predict(x_test)\n",
    "\n",
    "print(\"Coef: %.5f\" % linear_R.coef_)\n",
    "print(\"R square %.5f\" % linear_R.score(y_pred,y_test))"
   ]
  },
  {
   "cell_type": "code",
   "execution_count": 246,
   "metadata": {},
   "outputs": [
    {
     "data": {
      "image/png": "[encoded data removed]",
      "text/plain": [
       "<Figure size 432x288 with 1 Axes>"
      ]
     },
     "metadata": {
      "needs_background": "light"
     },
     "output_type": "display_data"
    }
   ],
   "source": [
    "plt.scatter(x_test, y_test,  color='black')\n",
    "plt.plot(x_test, y_pred, color='blue', linewidth=3)\n",
    "plt.show()"
   ]
  },
  {
   "cell_type": "code",
   "execution_count": 247,
   "metadata": {},
   "outputs": [
    {
     "name": "stdout",
     "output_type": "stream",
     "text": [
      "Accuracy: 0.86842\n",
      "model.score: 0.76316\n"
     ]
    },
    {
     "name": "stderr",
     "output_type": "stream",
     "text": [
      "/Users/BlackSung/opt/anaconda3/envs/py37/lib/python3.7/site-packages/sklearn/linear_model/logistic.py:432: FutureWarning: Default solver will be changed to 'lbfgs' in 0.22. Specify a solver to silence this warning.\n",
      "  FutureWarning)\n",
      "/Users/BlackSung/opt/anaconda3/envs/py37/lib/python3.7/site-packages/sklearn/utils/validation.py:724: DataConversionWarning: A column-vector y was passed when a 1d array was expected. Please change the shape of y to (n_samples, ), for example using ravel().\n",
      "  y = column_or_1d(y, warn=True)\n"
     ]
    }
   ],
   "source": [
    "data3 = breast_cancer.data[:, np.newaxis, 2].reshape(-1,1)\n",
    "target3 = breast_cancer.target.reshape(-1,1)\n",
    "x_train, x_test, y_train, y_test = train_test_split(data3,target3,test_size=0.2,random_state=1)\n",
    "\n",
    "logistic_R = linear_model.LogisticRegression()\n",
    "logistic_R.fit(x_train,y_train)\n",
    "y_pred = logistic_R.predict(x_test)\n",
    "\n",
    "print(\"Accuracy: %.5f\" % accuracy_score(y_test, y_pred))\n",
    "print(\"model.score: %.5f\" % logistic_R.score(y_test, y_pred))"
   ]
  },
  {
   "cell_type": "code",
   "execution_count": null,
   "metadata": {},
   "outputs": [],
   "source": []
  }
 ],
 "metadata": {
  "kernelspec": {
   "display_name": "Python 3",
   "language": "python",
   "name": "python3"
  },
  "language_info": {
   "codemirror_mode": {
    "name": "ipython",
    "version": 3
   },
   "file_extension": ".py",
   "mimetype": "text/x-python",
   "name": "python",
   "nbconvert_exporter": "python",
   "pygments_lexer": "ipython3",
   "version": "3.7.4"
  }
 },
 "nbformat": 4,
 "nbformat_minor": 2
}
