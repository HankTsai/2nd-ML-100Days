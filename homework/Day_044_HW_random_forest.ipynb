{
 "cells": [
  {
   "cell_type": "markdown",
   "metadata": {},
   "source": [
    "## [作業重點]\n",
    "確保你了解隨機森林模型中每個超參數的意義，並觀察調整超參數對結果的影響"
   ]
  },
  {
   "cell_type": "markdown",
   "metadata": {},
   "source": [
    "## 作業\n",
    "\n",
    "1. 試著調整 RandomForestClassifier(...) 中的參數，並觀察是否會改變結果？\n",
    "2. 改用其他資料集 (boston, wine)，並與回歸模型與決策樹的結果進行比較"
   ]
  },
  {
   "cell_type": "code",
   "execution_count": 44,
   "metadata": {},
   "outputs": [],
   "source": [
    "from sklearn.model_selection import train_test_split\n",
    "from sklearn.ensemble import RandomForestClassifier, RandomForestRegressor\n",
    "from sklearn.linear_model import Lasso\n",
    "from sklearn.tree import DecisionTreeClassifier\n",
    "from sklearn import datasets, metrics"
   ]
  },
  {
   "cell_type": "code",
   "execution_count": 11,
   "metadata": {},
   "outputs": [],
   "source": [
    "boston = datasets.load_boston()\n",
    "wine = datasets.load_wine()"
   ]
  },
  {
   "cell_type": "code",
   "execution_count": 41,
   "metadata": {},
   "outputs": [
    {
     "name": "stdout",
     "output_type": "stream",
     "text": [
      "0.9722222222222222\n",
      "0.8888888888888888\n"
     ]
    }
   ],
   "source": [
    "# wine\n",
    "x_train, x_test, y_train, y_test = train_test_split(wine.data, wine.target, test_size=0.2,random_state=1)  \n",
    "\n",
    "# RandomForestClassifier\n",
    "forest_clf = RandomForestClassifier(n_estimators=30,max_depth=5)\n",
    "forest_clf.fit(x_train, y_train)\n",
    "pred = forest_clf.predict(x_test)\n",
    "forest_acu = metrics.accuracy_score(y_test,pred)\n",
    "print(forest_acu)\n",
    "\n",
    "# DecisionTreeClassifier()\n",
    "tree_clf = DecisionTreeClassifier()\n",
    "tree_clf.fit(x_train, y_train)\n",
    "pred = tree_clf.predict(x_test)\n",
    "tree_acu = metrics.accuracy_score(y_test,pred)\n",
    "print(tree_acu)"
   ]
  },
  {
   "cell_type": "code",
   "execution_count": 54,
   "metadata": {},
   "outputs": [
    {
     "name": "stdout",
     "output_type": "stream",
     "text": [
      "0.9328419133620584\n",
      "0.7371659620143423\n"
     ]
    }
   ],
   "source": [
    "# boston\n",
    "x_train, x_test, y_train, y_test = train_test_split(boston.data, boston.target, test_size=0.2,random_state=1)  \n",
    "\n",
    "# RandomForestRegressor\n",
    "forest_reg = RandomForestRegressor(n_estimators=30,max_depth=5)\n",
    "forest_reg.fit(x_train, y_train)\n",
    "pred = forest_reg.predict(x_test)\n",
    "forest_r2 = forest_reg.score(boston.data, boston.target)\n",
    "print(forest_r2)\n",
    "\n",
    "# LassoRegression\n",
    "lasso_reg = Lasso(alpha=0.01)\n",
    "lasso_reg.fit(x_train, y_train)\n",
    "lasso_reg.predict(x_test)\n",
    "lasso_r2 = lasso_reg.score(boston.data, boston.target)\n",
    "print(lasso_r2)"
   ]
  },
  {
   "cell_type": "code",
   "execution_count": null,
   "metadata": {},
   "outputs": [],
   "source": [
    "x_train, x_test, y_train, y_test = train_test_split(wine.data, wine.target, test_size=0.2,random_state=1)"
   ]
  }
 ],
 "metadata": {
  "kernelspec": {
   "display_name": "Python 3",
   "language": "python",
   "name": "python3"
  },
  "language_info": {
   "codemirror_mode": {
    "name": "ipython",
    "version": 3
   },
   "file_extension": ".py",
   "mimetype": "text/x-python",
   "name": "python",
   "nbconvert_exporter": "python",
   "pygments_lexer": "ipython3",
   "version": "3.7.4"
  }
 },
 "nbformat": 4,
 "nbformat_minor": 2
}
